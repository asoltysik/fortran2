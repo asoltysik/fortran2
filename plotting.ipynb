{
 "cells": [
  {
   "cell_type": "code",
   "execution_count": 1,
   "metadata": {},
   "outputs": [],
   "source": [
    "using CSV, Gadfly, DataFrames"
   ]
  },
  {
   "cell_type": "code",
   "execution_count": 2,
   "metadata": {},
   "outputs": [
    {
     "data": {
      "text/html": [
       "<table class=\"data-frame\"><thead><tr><th></th><th>num</th><th>time</th><th>opt_type</th></tr></thead><tbody><tr><th>1</th><td>1</td><td>8.00006e-6</td><td>\"No optimization</td></tr><tr><th>2</th><td>6</td><td>6.99982e-6</td><td>\"No optimization</td></tr><tr><th>3</th><td>11</td><td>1.10001e-5</td><td>\"No optimization</td></tr><tr><th>4</th><td>16</td><td>1.30001e-5</td><td>\"No optimization</td></tr><tr><th>5</th><td>21</td><td>2.4e-5</td><td>\"No optimization</td></tr><tr><th>6</th><td>26</td><td>3.2e-5</td><td>\"No optimization</td></tr><tr><th>7</th><td>31</td><td>6.0e-5</td><td>\"No optimization</td></tr><tr><th>8</th><td>36</td><td>7.60001e-5</td><td>\"No optimization</td></tr><tr><th>9</th><td>41</td><td>9.2e-5</td><td>\"No optimization</td></tr><tr><th>10</th><td>46</td><td>0.000145</td><td>\"No optimization</td></tr><tr><th>11</th><td>51</td><td>0.00017</td><td>\"No optimization</td></tr><tr><th>12</th><td>56</td><td>0.000203</td><td>\"No optimization</td></tr><tr><th>13</th><td>61</td><td>0.000311</td><td>\"No optimization</td></tr><tr><th>14</th><td>66</td><td>0.000374</td><td>\"No optimization</td></tr><tr><th>15</th><td>71</td><td>0.000568</td><td>\"No optimization</td></tr><tr><th>16</th><td>76</td><td>0.000656</td><td>\"No optimization</td></tr><tr><th>17</th><td>81</td><td>0.000667</td><td>\"No optimization</td></tr><tr><th>18</th><td>86</td><td>0.001135</td><td>\"No optimization</td></tr><tr><th>19</th><td>91</td><td>0.000581</td><td>\"No optimization</td></tr><tr><th>20</th><td>96</td><td>0.000642</td><td>\"No optimization</td></tr><tr><th>21</th><td>101</td><td>0.000845</td><td>\"No optimization</td></tr><tr><th>22</th><td>106</td><td>0.000911</td><td>\"No optimization</td></tr><tr><th>23</th><td>111</td><td>0.000984</td><td>\"No optimization</td></tr><tr><th>24</th><td>116</td><td>0.001078</td><td>\"No optimization</td></tr><tr><th>25</th><td>121</td><td>0.001155</td><td>\"No optimization</td></tr><tr><th>26</th><td>126</td><td>0.001334</td><td>\"No optimization</td></tr><tr><th>27</th><td>131</td><td>0.001243</td><td>\"No optimization</td></tr><tr><th>28</th><td>136</td><td>0.001253</td><td>\"No optimization</td></tr><tr><th>29</th><td>141</td><td>0.001478</td><td>\"No optimization</td></tr><tr><th>30</th><td>146</td><td>0.001515</td><td>\"No optimization</td></tr><tr><th>&vellip;</th><td>&vellip;</td><td>&vellip;</td><td>&vellip;</td></tr></tbody></table>"
      ],
      "text/plain": [
       "1040×3 DataFrames.DataFrame\n",
       "│ Row  │ num  │ time       │ opt_type            │\n",
       "├──────┼──────┼────────────┼─────────────────────┤\n",
       "│ 1    │ 1    │ 8.00006e-6 │ \"No optimization    │\n",
       "│ 2    │ 6    │ 6.99982e-6 │ \"No optimization    │\n",
       "│ 3    │ 11   │ 1.10001e-5 │ \"No optimization    │\n",
       "│ 4    │ 16   │ 1.30001e-5 │ \"No optimization    │\n",
       "│ 5    │ 21   │ 2.4e-5     │ \"No optimization    │\n",
       "│ 6    │ 26   │ 3.2e-5     │ \"No optimization    │\n",
       "│ 7    │ 31   │ 6.0e-5     │ \"No optimization    │\n",
       "│ 8    │ 36   │ 7.60001e-5 │ \"No optimization    │\n",
       "│ 9    │ 41   │ 9.2e-5     │ \"No optimization    │\n",
       "│ 10   │ 46   │ 0.000145   │ \"No optimization    │\n",
       "│ 11   │ 51   │ 0.00017    │ \"No optimization    │\n",
       "⋮\n",
       "│ 1029 │ 1241 │ 2.66161    │ \"Both optimizations │\n",
       "│ 1030 │ 1246 │ 2.75772    │ \"Both optimizations │\n",
       "│ 1031 │ 1251 │ 3.02908    │ \"Both optimizations │\n",
       "│ 1032 │ 1256 │ 2.77196    │ \"Both optimizations │\n",
       "│ 1033 │ 1261 │ 3.02377    │ \"Both optimizations │\n",
       "│ 1034 │ 1266 │ 3.1654     │ \"Both optimizations │\n",
       "│ 1035 │ 1271 │ 2.84535    │ \"Both optimizations │\n",
       "│ 1036 │ 1276 │ 3.17792    │ \"Both optimizations │\n",
       "│ 1037 │ 1281 │ 3.3304     │ \"Both optimizations │\n",
       "│ 1038 │ 1286 │ 2.97322    │ \"Both optimizations │\n",
       "│ 1039 │ 1291 │ 3.14642    │ \"Both optimizations │\n",
       "│ 1040 │ 1296 │ 3.14064    │ \"Both optimizations │"
      ]
     },
     "execution_count": 2,
     "metadata": {},
     "output_type": "execute_result"
    }
   ],
   "source": [
    "results = CSV.read(\"results.csv\", allowmissing=:none)"
   ]
  },
  {
   "cell_type": "code",
   "execution_count": null,
   "metadata": {},
   "outputs": [],
   "source": [
    "plot(results, x=\"num\", y=\"time\", Geom.point, color=\"opt_type\")"
   ]
  }
 ],
 "metadata": {
  "kernelspec": {
   "display_name": "Julia 0.6.2",
   "language": "julia",
   "name": "julia-0.6"
  },
  "language_info": {
   "file_extension": ".jl",
   "mimetype": "application/julia",
   "name": "julia",
   "version": "0.6.2"
  }
 },
 "nbformat": 4,
 "nbformat_minor": 2
}
